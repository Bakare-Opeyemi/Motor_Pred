{
  "cells": [
    {
      "cell_type": "code",
      "execution_count": 2,
      "metadata": {
        "id": "VlFpColzvpVY"
      },
      "outputs": [],
      "source": [
        "import pandas as pd\n",
        "import numpy as np\n",
        "import sklearn\n",
        "from sklearn.model_selection import train_test_split\n",
        "from sklearn.linear_model import LinearRegression\n",
        "import joblib\n",
        "from sklearn.preprocessing import StandardScaler\n",
        "import warnings\n",
        "warnings.filterwarnings(\"ignore\", category=FutureWarning)\n",
        "import matplotlib.pyplot as plt\n",
        "import seaborn as sns\n",
        "import numpy as np\n",
        "from sklearn.metrics import r2_score, mean_absolute_error, mean_squared_error\n",
        "from math import sqrt\n",
        "plt.style.use('fivethirtyeight')\n"
      ]
    },
    {
      "cell_type": "code",
      "execution_count": 4,
      "metadata": {
        "colab": {
          "base_uri": "https://localhost:8080/"
        },
        "id": "TuZJq2TgDC_g",
        "outputId": "c89c79ec-4961-4a1f-b3be-1be0d46cc9aa"
      },
      "outputs": [
        {
          "name": "stdout",
          "output_type": "stream",
          "text": [
            "Current version: 1.5.1\n"
          ]
        }
      ],
      "source": [
        "import sklearn\n",
        "print(\"Current version:\", sklearn.__version__)"
      ]
    },
    {
      "cell_type": "code",
      "execution_count": 5,
      "metadata": {
        "id": "w9KgEQR23gcL"
      },
      "outputs": [],
      "source": [
        "path = \"/content/drive/MyDrive/Dataset/measures_v2.csv\"\n",
        "df = pd.read_csv(path)\n",
        "\n"
      ]
    },
    {
      "cell_type": "code",
      "execution_count": 6,
      "metadata": {
        "id": "F1bZolJW3pCW"
      },
      "outputs": [],
      "source": [
        "df = df.drop('profile_id', axis=1)"
      ]
    },
    {
      "cell_type": "code",
      "execution_count": 7,
      "metadata": {
        "colab": {
          "base_uri": "https://localhost:8080/"
        },
        "id": "gFudiPN84IvH",
        "outputId": "7b127480-8ac5-46be-b514-5e1605932705"
      },
      "outputs": [
        {
          "name": "stdout",
          "output_type": "stream",
          "text": [
            "u_q               0\n",
            "coolant           0\n",
            "stator_winding    0\n",
            "u_d               0\n",
            "stator_tooth      0\n",
            "motor_speed       0\n",
            "i_d               0\n",
            "i_q               0\n",
            "pm                0\n",
            "stator_yoke       0\n",
            "ambient           0\n",
            "torque            0\n",
            "dtype: int64\n"
          ]
        }
      ],
      "source": [
        "missing_values = df.isnull().sum()\n",
        "print(missing_values)"
      ]
    },
    {
      "cell_type": "code",
      "execution_count": 20,
      "metadata": {
        "id": "d-sYCqlO4Qho"
      },
      "outputs": [],
      "source": [
        "X = df.drop(columns=['motor_speed'])\n",
        "y = df['motor_speed']\n"
      ]
    },
    {
      "cell_type": "code",
      "execution_count": 21,
      "metadata": {
        "id": "fFO-D5rz4e_K"
      },
      "outputs": [],
      "source": [
        "X_train, X_test, y_train, y_test = train_test_split(X, y, test_size=0.2, random_state=100)"
      ]
    },
    {
      "cell_type": "code",
      "execution_count": 22,
      "metadata": {
        "id": "NB6J4mis4hk3"
      },
      "outputs": [],
      "source": [
        "scaler = StandardScaler()\n",
        "\n",
        "# Fit the scaler on the training data and transform it\n",
        "X_train_scaled = scaler.fit_transform(X_train)\n",
        "\n",
        "# Fit the scaler on the testing data and transform it\n",
        "X_test_scaled = scaler.transform(X_test)\n"
      ]
    },
    {
      "cell_type": "code",
      "execution_count": 23,
      "metadata": {
        "id": "vlVOhXez4lKa"
      },
      "outputs": [],
      "source": [
        "\n",
        "def predict(model):\n",
        "    print('Model: {}'.format(model))\n",
        "\n",
        "    # Fit the model to the training data\n",
        "    model.fit(X_train_scaled, y_train)\n",
        "\n",
        "    # Make predictions on the testing data\n",
        "    y_pred = model.predict(X_test_scaled)\n",
        "\n",
        "    # Evaluate the model\n",
        "    mse = mean_squared_error(y_test, y_pred)\n",
        "    print('Mean Squared Error:', mse)\n",
        "\n",
        "    r2 = r2_score(y_test, y_pred)\n",
        "    print('R^2 Score:', r2)\n",
        "\n",
        "    # Calculate Mean Absolute Error (MAE)\n",
        "    mae = mean_absolute_error(y_test, y_pred)\n",
        "    print('Mean Absolute Error:', mae)\n",
        "\n",
        "    # Calculate Root Mean Squared Error (RMSE)\n",
        "    mse = mean_squared_error(y_test, y_pred)\n",
        "    rmse = mse ** 0.5\n",
        "    print('Root Mean Squared Error:', rmse)\n",
        "\n",
        "    sns.displot(y_test - y_pred)\n",
        "\n",
        "\n"
      ]
    },
    {
      "cell_type": "code",
      "execution_count": 31,
      "metadata": {
        "colab": {
          "base_uri": "https://localhost:8080/",
          "height": 581
        },
        "id": "oe_Stix446n1",
        "outputId": "768c1a88-3183-471b-c228-58a0b0465400"
      },
      "outputs": [
        {
          "name": "stdout",
          "output_type": "stream",
          "text": [
            "Model: LinearRegression()\n",
            "Mean Squared Error: 219171.53627767944\n",
            "R^2 Score: 0.9366687461044592\n",
            "Mean Absolute Error: 342.6256035163838\n",
            "Root Mean Squared Error: 468.1575976929985\n"
          ]
        },
        {
          "data": {
            "image/png": "[encoded data removed]",
            "text/plain": [
              "<Figure size 500x500 with 1 Axes>"
            ]
          },
          "metadata": {},
          "output_type": "display_data"
        }
      ],
      "source": [
        "model = LinearRegression()\n",
        "\n",
        "model.fit(X_train_scaled, y_train)\n",
        "\n",
        "\n",
        "predictions = model.predict(X_test_scaled)\n",
        "\n",
        "predict(model)"
      ]
    },
    {
      "cell_type": "code",
      "execution_count": 32,
      "metadata": {
        "id": "b6RRYeaT5BwF"
      },
      "outputs": [],
      "source": [
        "import pickle\n"
      ]
    },
    {
      "cell_type": "code",
      "execution_count": 33,
      "metadata": {
        "colab": {
          "base_uri": "https://localhost:8080/"
        },
        "id": "Cq1LECgA5YUB",
        "outputId": "c33538b3-5026-4e3f-dd52-f4f5bfd101f4"
      },
      "outputs": [
        {
          "data": {
            "text/plain": [
              "0.9366687461044592"
            ]
          },
          "execution_count": 33,
          "metadata": {},
          "output_type": "execute_result"
        }
      ],
      "source": [
        "filename = 'model.sav'\n",
        "pickle.dump(model, open(filename, \"wb\"))\n",
        "load_model = pickle.load(open(filename, \"rb\"))\n",
        "r = load_model.score(X_test_scaled, y_test)\n",
        "r"
      ]
    },
    {
      "cell_type": "code",
      "execution_count": 34,
      "metadata": {
        "colab": {
          "base_uri": "https://localhost:8080/"
        },
        "id": "UpZG_2mm5bLX",
        "outputId": "e180af45-f44a-489e-e013-9b0cba594af1"
      },
      "outputs": [
        {
          "name": "stdout",
          "output_type": "stream",
          "text": [
            "        u_q   coolant  stator_winding       u_d  stator_tooth       i_d  \\\n",
            "0 -1.134610 -0.823162       -1.635300  0.422012     -1.663889  1.027815   \n",
            "1  0.307401  0.621040        0.889371 -1.382475      0.876138 -0.203233   \n",
            "2  1.744870  0.597837        0.431288  0.420254      0.595452  0.407569   \n",
            "3  1.748967 -0.471915       -0.084632  0.350735     -0.117754  0.114160   \n",
            "4 -0.956065 -0.823603       -1.622984  0.410670     -1.641504  1.027807   \n",
            "\n",
            "        i_q        pm  stator_yoke   ambient    torque  \n",
            "0 -0.394145 -1.850233    -1.480071 -0.804601 -0.397851  \n",
            "1  1.619112  0.375505     0.842586  0.385006  1.540947  \n",
            "2 -0.434233  0.688833     0.623744  0.308841 -0.442139  \n",
            "3 -0.401979 -0.147407    -0.271088  0.921321 -0.411560  \n",
            "4 -0.394143 -1.706251    -1.457028 -0.675582 -0.402017  \n"
          ]
        }
      ],
      "source": [
        "X_test_scaled_df = pd.DataFrame(X_test_scaled, columns=X_test.columns)\n",
        "print(X_test_scaled_df.head())"
      ]
    },
    {
      "cell_type": "code",
      "execution_count": 35,
      "metadata": {
        "colab": {
          "base_uri": "https://localhost:8080/"
        },
        "id": "TydfkCwC5ddi",
        "outputId": "c79fe091-68ea-4b83-9fa4-3756a163fda7"
      },
      "outputs": [
        {
          "data": {
            "text/plain": [
              "['model.sav']"
            ]
          },
          "execution_count": 35,
          "metadata": {},
          "output_type": "execute_result"
        }
      ],
      "source": [
        "import joblib\n",
        "from sklearn.linear_model import LinearRegression\n",
        "\n",
        "# Example model training\n",
        "model = LinearRegression()\n",
        "# ... (training code)\n",
        "\n",
        "# Save the model\n",
        "joblib.dump(model, 'model.sav')\n"
      ]
    },
    {
      "cell_type": "code",
      "execution_count": 36,
      "metadata": {
        "colab": {
          "base_uri": "https://localhost:8080/",
          "height": 17
        },
        "id": "hhP1gSY16PAQ",
        "outputId": "4705e7e7-0763-46db-d2cb-89830e44eefe"
      },
      "outputs": [
        {
          "data": {
            "application/javascript": "\n    async function download(id, filename, size) {\n      if (!google.colab.kernel.accessAllowed) {\n        return;\n      }\n      const div = document.createElement('div');\n      const label = document.createElement('label');\n      label.textContent = `Downloading \"${filename}\": `;\n      div.appendChild(label);\n      const progress = document.createElement('progress');\n      progress.max = size;\n      div.appendChild(progress);\n      document.body.appendChild(div);\n\n      const buffers = [];\n      let downloaded = 0;\n\n      const channel = await google.colab.kernel.comms.open(id);\n      // Send a message to notify the kernel that we're ready.\n      channel.send({})\n\n      for await (const message of channel.messages) {\n        // Send a message to notify the kernel that we're ready.\n        channel.send({})\n        if (message.buffers) {\n          for (const buffer of message.buffers) {\n            buffers.push(buffer);\n            downloaded += buffer.byteLength;\n            progress.value = downloaded;\n          }\n        }\n      }\n      const blob = new Blob(buffers, {type: 'application/binary'});\n      const a = document.createElement('a');\n      a.href = window.URL.createObjectURL(blob);\n      a.download = filename;\n      div.appendChild(a);\n      a.click();\n      div.remove();\n    }\n  ",
            "text/plain": [
              "<IPython.core.display.Javascript object>"
            ]
          },
          "metadata": {},
          "output_type": "display_data"
        },
        {
          "data": {
            "application/javascript": "download(\"download_90c4a298-fcba-44fc-bb98-2ba72603107f\", \"model.sav\", 146)",
            "text/plain": [
              "<IPython.core.display.Javascript object>"
            ]
          },
          "metadata": {},
          "output_type": "display_data"
        }
      ],
      "source": [
        "from google.colab import files\n",
        "\n",
        "# Download the model file\n",
        "files.download('model.sav')\n"
      ]
    },
    {
      "cell_type": "code",
      "execution_count": 37,
      "metadata": {
        "colab": {
          "base_uri": "https://localhost:8080/",
          "height": 598
        },
        "id": "iEP0Ot2p6VN6",
        "outputId": "0461ce52-47f5-4bc7-e9c4-ad9cfbc1672b"
      },
      "outputs": [
        {
          "name": "stdout",
          "output_type": "stream",
          "text": [
            "Model: LinearRegression()\n",
            "Mean Squared Error: 219171.53627767944\n",
            "R^2 Score: 0.9366687461044592\n",
            "Mean Absolute Error: 342.6256035163838\n",
            "Root Mean Squared Error: 468.1575976929985\n",
            "Loaded model R^2 score: 0.9366687461044592\n"
          ]
        },
        {
          "data": {
            "image/png": "[encoded data removed]",
            "text/plain": [
              "<Figure size 500x500 with 1 Axes>"
            ]
          },
          "metadata": {},
          "output_type": "display_data"
        }
      ],
      "source": [
        "from sklearn.linear_model import LinearRegression\n",
        "from sklearn.metrics import mean_squared_error, r2_score, mean_absolute_error\n",
        "import pickle\n",
        "import seaborn as sns\n",
        "\n",
        "# Sample data\n",
        "# Ensure X_train_scaled and y_train are defined\n",
        "# X_train_scaled, y_train = ...\n",
        "\n",
        "def predict(model, X_test):\n",
        "    print('Model: {}'.format(model))\n",
        "\n",
        "    # Make predictions on the testing data\n",
        "    y_pred = model.predict(X_test)\n",
        "\n",
        "    # Evaluate the model\n",
        "    mse = mean_squared_error(y_test, y_pred)\n",
        "    print('Mean Squared Error:', mse)\n",
        "\n",
        "    r2 = r2_score(y_test, y_pred)\n",
        "    print('R^2 Score:', r2)\n",
        "\n",
        "    # Calculate Mean Absolute Error (MAE)\n",
        "    mae = mean_absolute_error(y_test, y_pred)\n",
        "    print('Mean Absolute Error:', mae)\n",
        "\n",
        "    # Calculate Root Mean Squared Error (RMSE)\n",
        "    rmse = mse ** 0.5\n",
        "    print('Root Mean Squared Error:', rmse)\n",
        "\n",
        "    sns.displot(y_test - y_pred)\n",
        "\n",
        "# Fit the model\n",
        "model = LinearRegression()\n",
        "model.fit(X_train_scaled, y_train)\n",
        "\n",
        "# Make predictions and evaluate\n",
        "predict(model, X_test_scaled)\n",
        "\n",
        "# Save the model\n",
        "filename = 'model.sav'\n",
        "pickle.dump(model, open(filename, \"wb\"))\n",
        "\n",
        "# Load the model\n",
        "load_model = pickle.load(open(filename, \"rb\"))\n",
        "\n",
        "# Ensure the loaded model is fitted\n",
        "if hasattr(load_model, 'coef_'):\n",
        "    r = load_model.score(X_test_scaled, y_test)\n",
        "    print('Loaded model R^2 score:', r)\n",
        "else:\n",
        "    print('The loaded model is not fitted.')\n"
      ]
    },
    {
      "cell_type": "code",
      "execution_count": 38,
      "metadata": {
        "colab": {
          "base_uri": "https://localhost:8080/",
          "height": 17
        },
        "id": "58crqOM5KKRf",
        "outputId": "76f7fc78-7791-4aad-e3b7-8158f9eed3a7"
      },
      "outputs": [
        {
          "data": {
            "application/javascript": "\n    async function download(id, filename, size) {\n      if (!google.colab.kernel.accessAllowed) {\n        return;\n      }\n      const div = document.createElement('div');\n      const label = document.createElement('label');\n      label.textContent = `Downloading \"${filename}\": `;\n      div.appendChild(label);\n      const progress = document.createElement('progress');\n      progress.max = size;\n      div.appendChild(progress);\n      document.body.appendChild(div);\n\n      const buffers = [];\n      let downloaded = 0;\n\n      const channel = await google.colab.kernel.comms.open(id);\n      // Send a message to notify the kernel that we're ready.\n      channel.send({})\n\n      for await (const message of channel.messages) {\n        // Send a message to notify the kernel that we're ready.\n        channel.send({})\n        if (message.buffers) {\n          for (const buffer of message.buffers) {\n            buffers.push(buffer);\n            downloaded += buffer.byteLength;\n            progress.value = downloaded;\n          }\n        }\n      }\n      const blob = new Blob(buffers, {type: 'application/binary'});\n      const a = document.createElement('a');\n      a.href = window.URL.createObjectURL(blob);\n      a.download = filename;\n      div.appendChild(a);\n      a.click();\n      div.remove();\n    }\n  ",
            "text/plain": [
              "<IPython.core.display.Javascript object>"
            ]
          },
          "metadata": {},
          "output_type": "display_data"
        },
        {
          "data": {
            "application/javascript": "download(\"download_4a11279f-8503-4a79-b720-c5e097d1b28c\", \"model.sav\", 579)",
            "text/plain": [
              "<IPython.core.display.Javascript object>"
            ]
          },
          "metadata": {},
          "output_type": "display_data"
        }
      ],
      "source": [
        "from google.colab import files\n",
        "\n",
        "# Save the model using pickle\n",
        "filename = 'model.sav'\n",
        "pickle.dump(model, open(filename, \"wb\"))\n",
        "\n",
        "# Download the file to your local machine\n",
        "files.download(filename)\n"
      ]
    },
    {
      "cell_type": "code",
      "execution_count": null,
      "metadata": {
        "id": "uJALTfxBKdXh"
      },
      "outputs": [],
      "source": []
    }
  ],
  "metadata": {
    "colab": {
      "provenance": []
    },
    "kernelspec": {
      "display_name": "Python 3",
      "name": "python3"
    },
    "language_info": {
      "name": "python",
      "version": "3.12.1"
    }
  },
  "nbformat": 4,
  "nbformat_minor": 0
}
